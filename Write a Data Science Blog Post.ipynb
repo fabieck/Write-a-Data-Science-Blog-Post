{
 "cells": [
  {
   "cell_type": "code",
   "execution_count": 1,
   "metadata": {},
   "outputs": [
    {
     "data": {
      "text/html": [
       "<div>\n",
       "<style scoped>\n",
       "    .dataframe tbody tr th:only-of-type {\n",
       "        vertical-align: middle;\n",
       "    }\n",
       "\n",
       "    .dataframe tbody tr th {\n",
       "        vertical-align: top;\n",
       "    }\n",
       "\n",
       "    .dataframe thead th {\n",
       "        text-align: right;\n",
       "    }\n",
       "</style>\n",
       "<table border=\"1\" class=\"dataframe\">\n",
       "  <thead>\n",
       "    <tr style=\"text-align: right;\">\n",
       "      <th></th>\n",
       "      <th>Unnamed: 0</th>\n",
       "      <th>player_name</th>\n",
       "      <th>teams_played_for</th>\n",
       "      <th>league</th>\n",
       "      <th>games</th>\n",
       "      <th>minutes_played</th>\n",
       "      <th>goals</th>\n",
       "      <th>npg</th>\n",
       "      <th>assists</th>\n",
       "      <th>xG</th>\n",
       "      <th>...</th>\n",
       "      <th>xG90</th>\n",
       "      <th>xA90</th>\n",
       "      <th>npxG90</th>\n",
       "      <th>position</th>\n",
       "      <th>shots</th>\n",
       "      <th>key_passes</th>\n",
       "      <th>yellow_cards</th>\n",
       "      <th>red_cards</th>\n",
       "      <th>xGBuildup</th>\n",
       "      <th>xGChain</th>\n",
       "    </tr>\n",
       "  </thead>\n",
       "  <tbody>\n",
       "    <tr>\n",
       "      <th>0</th>\n",
       "      <td>0</td>\n",
       "      <td>Jamie Vardy</td>\n",
       "      <td>Leicester</td>\n",
       "      <td>EPL</td>\n",
       "      <td>35</td>\n",
       "      <td>3034</td>\n",
       "      <td>23</td>\n",
       "      <td>19</td>\n",
       "      <td>5</td>\n",
       "      <td>18.903537</td>\n",
       "      <td>...</td>\n",
       "      <td>0.560751</td>\n",
       "      <td>0.188908</td>\n",
       "      <td>0.447855</td>\n",
       "      <td>F S</td>\n",
       "      <td>89</td>\n",
       "      <td>32</td>\n",
       "      <td>3</td>\n",
       "      <td>0</td>\n",
       "      <td>1.724341</td>\n",
       "      <td>21.026607</td>\n",
       "    </tr>\n",
       "    <tr>\n",
       "      <th>1</th>\n",
       "      <td>1</td>\n",
       "      <td>Pierre-Emerick Aubameyang</td>\n",
       "      <td>Arsenal</td>\n",
       "      <td>EPL</td>\n",
       "      <td>36</td>\n",
       "      <td>3143</td>\n",
       "      <td>22</td>\n",
       "      <td>20</td>\n",
       "      <td>3</td>\n",
       "      <td>16.352623</td>\n",
       "      <td>...</td>\n",
       "      <td>0.468258</td>\n",
       "      <td>0.128643</td>\n",
       "      <td>0.424668</td>\n",
       "      <td>F M S</td>\n",
       "      <td>93</td>\n",
       "      <td>26</td>\n",
       "      <td>3</td>\n",
       "      <td>1</td>\n",
       "      <td>5.339657</td>\n",
       "      <td>19.964282</td>\n",
       "    </tr>\n",
       "    <tr>\n",
       "      <th>2</th>\n",
       "      <td>2</td>\n",
       "      <td>Danny Ings</td>\n",
       "      <td>Southampton</td>\n",
       "      <td>EPL</td>\n",
       "      <td>38</td>\n",
       "      <td>2836</td>\n",
       "      <td>22</td>\n",
       "      <td>21</td>\n",
       "      <td>2</td>\n",
       "      <td>15.659717</td>\n",
       "      <td>...</td>\n",
       "      <td>0.496959</td>\n",
       "      <td>0.090415</td>\n",
       "      <td>0.448647</td>\n",
       "      <td>F M S</td>\n",
       "      <td>93</td>\n",
       "      <td>35</td>\n",
       "      <td>3</td>\n",
       "      <td>0</td>\n",
       "      <td>5.015938</td>\n",
       "      <td>18.488031</td>\n",
       "    </tr>\n",
       "    <tr>\n",
       "      <th>3</th>\n",
       "      <td>3</td>\n",
       "      <td>Raheem Sterling</td>\n",
       "      <td>Manchester City</td>\n",
       "      <td>EPL</td>\n",
       "      <td>33</td>\n",
       "      <td>2678</td>\n",
       "      <td>20</td>\n",
       "      <td>20</td>\n",
       "      <td>1</td>\n",
       "      <td>19.799906</td>\n",
       "      <td>...</td>\n",
       "      <td>0.665419</td>\n",
       "      <td>0.242260</td>\n",
       "      <td>0.614257</td>\n",
       "      <td>F M S</td>\n",
       "      <td>100</td>\n",
       "      <td>48</td>\n",
       "      <td>5</td>\n",
       "      <td>0</td>\n",
       "      <td>10.185997</td>\n",
       "      <td>31.442010</td>\n",
       "    </tr>\n",
       "    <tr>\n",
       "      <th>4</th>\n",
       "      <td>4</td>\n",
       "      <td>Mohamed Salah</td>\n",
       "      <td>Liverpool</td>\n",
       "      <td>EPL</td>\n",
       "      <td>34</td>\n",
       "      <td>2904</td>\n",
       "      <td>19</td>\n",
       "      <td>16</td>\n",
       "      <td>10</td>\n",
       "      <td>20.663319</td>\n",
       "      <td>...</td>\n",
       "      <td>0.640392</td>\n",
       "      <td>0.270435</td>\n",
       "      <td>0.569622</td>\n",
       "      <td>F S</td>\n",
       "      <td>132</td>\n",
       "      <td>60</td>\n",
       "      <td>1</td>\n",
       "      <td>0</td>\n",
       "      <td>8.425027</td>\n",
       "      <td>31.374198</td>\n",
       "    </tr>\n",
       "  </tbody>\n",
       "</table>\n",
       "<p>5 rows × 22 columns</p>\n",
       "</div>"
      ],
      "text/plain": [
       "   Unnamed: 0                player_name teams_played_for league  games  \\\n",
       "0           0                Jamie Vardy        Leicester    EPL     35   \n",
       "1           1  Pierre-Emerick Aubameyang          Arsenal    EPL     36   \n",
       "2           2                 Danny Ings      Southampton    EPL     38   \n",
       "3           3            Raheem Sterling  Manchester City    EPL     33   \n",
       "4           4              Mohamed Salah        Liverpool    EPL     34   \n",
       "\n",
       "   minutes_played  goals  npg  assists         xG  ...      xG90      xA90  \\\n",
       "0            3034     23   19        5  18.903537  ...  0.560751  0.188908   \n",
       "1            3143     22   20        3  16.352623  ...  0.468258  0.128643   \n",
       "2            2836     22   21        2  15.659717  ...  0.496959  0.090415   \n",
       "3            2678     20   20        1  19.799906  ...  0.665419  0.242260   \n",
       "4            2904     19   16       10  20.663319  ...  0.640392  0.270435   \n",
       "\n",
       "     npxG90  position  shots key_passes  yellow_cards  red_cards  xGBuildup  \\\n",
       "0  0.447855       F S     89         32             3          0   1.724341   \n",
       "1  0.424668     F M S     93         26             3          1   5.339657   \n",
       "2  0.448647     F M S     93         35             3          0   5.015938   \n",
       "3  0.614257     F M S    100         48             5          0  10.185997   \n",
       "4  0.569622       F S    132         60             1          0   8.425027   \n",
       "\n",
       "     xGChain  \n",
       "0  21.026607  \n",
       "1  19.964282  \n",
       "2  18.488031  \n",
       "3  31.442010  \n",
       "4  31.374198  \n",
       "\n",
       "[5 rows x 22 columns]"
      ]
     },
     "execution_count": 1,
     "metadata": {},
     "output_type": "execute_result"
    }
   ],
   "source": [
    "import numpy as np\n",
    "import pandas as pd\n",
    "import matplotlib.pyplot as plt\n",
    "%matplotlib inline\n",
    "\n",
    "df1920 = pd.read_csv('./2019-2020.csv')\n",
    "df1819 = pd.read_csv('./2018-2019.csv')\n",
    "df1718 = pd.read_csv('./2017-2018.csv')\n",
    "df1617 = pd.read_csv('./2016-2017.csv')\n",
    "df1516 = pd.read_csv('./2015-2016.csv')\n",
    "df1415 = pd.read_csv('./2014-2015.csv')\n",
    "df1920.head()"
   ]
  },
  {
   "cell_type": "code",
   "execution_count": 28,
   "metadata": {},
   "outputs": [
    {
     "data": {
      "text/plain": [
       "28757"
      ]
     },
     "execution_count": 28,
     "metadata": {},
     "output_type": "execute_result"
    }
   ],
   "source": [
    "##total goals\n",
    "df1920.goals.sum()+df1819.goals.sum()+df1718.goals.sum()+df1617.goals.sum()+df1516.goals.sum()+df1415.goals.sum()"
   ]
  },
  {
   "cell_type": "code",
   "execution_count": 2,
   "metadata": {},
   "outputs": [
    {
     "data": {
      "text/plain": [
       "<bound method NDFrame.describe of       Unnamed: 0                player_name teams_played_for   league  games  \\\n",
       "0              0                Jamie Vardy        Leicester      EPL     35   \n",
       "1              1  Pierre-Emerick Aubameyang          Arsenal      EPL     36   \n",
       "2              2                 Danny Ings      Southampton      EPL     38   \n",
       "3              3            Raheem Sterling  Manchester City      EPL     33   \n",
       "4              4              Mohamed Salah        Liverpool      EPL     34   \n",
       "...          ...                        ...              ...      ...    ...   \n",
       "2656        2656              Janis Antiste         Toulouse  Ligue_1      1   \n",
       "2657        2657               Kaj Sierhuis            Reims  Ligue_1      1   \n",
       "2658        2658                Yvann Maçon    Saint-Etienne  Ligue_1      2   \n",
       "2659        2659            Bruno Guimarães             Lyon  Ligue_1      3   \n",
       "2660        2660                 Jean Onana            Lille  Ligue_1      1   \n",
       "\n",
       "      minutes_played  goals  npg  assists         xG  ...      xG90      xA90  \\\n",
       "0               3034     23   19        5  18.903537  ...  0.560751  0.188908   \n",
       "1               3143     22   20        3  16.352623  ...  0.468258  0.128643   \n",
       "2               2836     22   21        2  15.659717  ...  0.496959  0.090415   \n",
       "3               2678     20   20        1  19.799906  ...  0.665419  0.242260   \n",
       "4               2904     19   16       10  20.663319  ...  0.640392  0.270435   \n",
       "...              ...    ...  ...      ...        ...  ...       ...       ...   \n",
       "2656              10      0    0        0   0.045940  ...  0.413460  0.000000   \n",
       "2657              12      0    0        0   0.000000  ...  0.000000  0.000000   \n",
       "2658             100      0    0        0   0.013412  ...  0.012071  0.000000   \n",
       "2659             270      0    0        0   0.074639  ...  0.024880  0.121928   \n",
       "2660              80      0    0        0   0.012987  ...  0.014610  0.066886   \n",
       "\n",
       "        npxG90  position  shots key_passes  yellow_cards  red_cards  \\\n",
       "0     0.447855       F S     89         32             3          0   \n",
       "1     0.424668     F M S     93         26             3          1   \n",
       "2     0.448647     F M S     93         35             3          0   \n",
       "3     0.614257     F M S    100         48             5          0   \n",
       "4     0.569622       F S    132         60             1          0   \n",
       "...        ...       ...    ...        ...           ...        ...   \n",
       "2656  0.413460         S      1          0             0          0   \n",
       "2657  0.000000         F      0          0             0          0   \n",
       "2658  0.012071       D M      1          0             1          0   \n",
       "2659  0.024880         M      2          5             1          0   \n",
       "2660  0.014610         M      1          1             0          0   \n",
       "\n",
       "      xGBuildup    xGChain  \n",
       "0      1.724341  21.026607  \n",
       "1      5.339657  19.964282  \n",
       "2      5.015938  18.488031  \n",
       "3     10.185997  31.442010  \n",
       "4      8.425027  31.374198  \n",
       "...         ...        ...  \n",
       "2656   0.000000   0.045940  \n",
       "2657   0.039422   0.039422  \n",
       "2658   0.219668   0.233080  \n",
       "2659   1.039801   1.124831  \n",
       "2660   0.121680   0.194121  \n",
       "\n",
       "[2661 rows x 22 columns]>"
      ]
     },
     "execution_count": 2,
     "metadata": {},
     "output_type": "execute_result"
    }
   ],
   "source": [
    "df1920.describe"
   ]
  },
  {
   "cell_type": "code",
   "execution_count": 3,
   "metadata": {},
   "outputs": [
    {
     "name": "stdout",
     "output_type": "stream",
     "text": [
      "<class 'pandas.core.frame.DataFrame'>\n",
      "RangeIndex: 2661 entries, 0 to 2660\n",
      "Data columns (total 22 columns):\n",
      " #   Column            Non-Null Count  Dtype  \n",
      "---  ------            --------------  -----  \n",
      " 0   Unnamed: 0        2661 non-null   int64  \n",
      " 1   player_name       2661 non-null   object \n",
      " 2   teams_played_for  2661 non-null   object \n",
      " 3   league            2661 non-null   object \n",
      " 4   games             2661 non-null   int64  \n",
      " 5   minutes_played    2661 non-null   int64  \n",
      " 6   goals             2661 non-null   int64  \n",
      " 7   npg               2661 non-null   int64  \n",
      " 8   assists           2661 non-null   int64  \n",
      " 9   xG                2661 non-null   float64\n",
      " 10  xA                2661 non-null   float64\n",
      " 11  npxG              2661 non-null   float64\n",
      " 12  xG90              2661 non-null   float64\n",
      " 13  xA90              2661 non-null   float64\n",
      " 14  npxG90            2661 non-null   float64\n",
      " 15  position          2661 non-null   object \n",
      " 16  shots             2661 non-null   int64  \n",
      " 17  key_passes        2661 non-null   int64  \n",
      " 18  yellow_cards      2661 non-null   int64  \n",
      " 19  red_cards         2661 non-null   int64  \n",
      " 20  xGBuildup         2661 non-null   float64\n",
      " 21  xGChain           2661 non-null   float64\n",
      "dtypes: float64(8), int64(10), object(4)\n",
      "memory usage: 457.5+ KB\n"
     ]
    }
   ],
   "source": [
    "df1920.info()"
   ]
  },
  {
   "cell_type": "code",
   "execution_count": 4,
   "metadata": {},
   "outputs": [
    {
     "name": "stdout",
     "output_type": "stream",
     "text": [
      "Row    number: 2661\n",
      "Column number: 22\n"
     ]
    }
   ],
   "source": [
    "num_rows = df1920.shape[0] \n",
    "num_cols = df1920.shape[1]\n",
    "print(\"Row    number: {}\".format(num_rows))\n",
    "print(\"Column number: {}\".format(num_cols))\n"
   ]
  },
  {
   "cell_type": "code",
   "execution_count": 5,
   "metadata": {},
   "outputs": [
    {
     "data": {
      "text/plain": [
       "Index(['Unnamed: 0', 'player_name', 'teams_played_for', 'league', 'games',\n",
       "       'minutes_played', 'goals', 'npg', 'assists', 'xG', 'xA', 'npxG', 'xG90',\n",
       "       'xA90', 'npxG90', 'position', 'shots', 'key_passes', 'yellow_cards',\n",
       "       'red_cards', 'xGBuildup', 'xGChain'],\n",
       "      dtype='object')"
      ]
     },
     "execution_count": 5,
     "metadata": {},
     "output_type": "execute_result"
    }
   ],
   "source": [
    "# To check the column names in the dataset\n",
    "df1920.columns"
   ]
  },
  {
   "cell_type": "code",
   "execution_count": 6,
   "metadata": {},
   "outputs": [
    {
     "data": {
      "text/plain": [
       "Unnamed: 0          0\n",
       "player_name         0\n",
       "teams_played_for    0\n",
       "league              0\n",
       "games               0\n",
       "minutes_played      0\n",
       "goals               0\n",
       "npg                 0\n",
       "assists             0\n",
       "xG                  0\n",
       "xA                  0\n",
       "npxG                0\n",
       "xG90                0\n",
       "xA90                0\n",
       "npxG90              0\n",
       "position            0\n",
       "shots               0\n",
       "key_passes          0\n",
       "yellow_cards        0\n",
       "red_cards           0\n",
       "xGBuildup           0\n",
       "xGChain             0\n",
       "dtype: int64"
      ]
     },
     "execution_count": 6,
     "metadata": {},
     "output_type": "execute_result"
    }
   ],
   "source": [
    "# Data Preparation Step 1: check how many missing values are in the dataset\n",
    "df1920.isnull().sum()"
   ]
  },
  {
   "cell_type": "code",
   "execution_count": 10,
   "metadata": {},
   "outputs": [
    {
     "data": {
      "image/png": "[encoded data removed]",
      "text/plain": [
       "<Figure size 432x288 with 1 Axes>"
      ]
     },
     "metadata": {
      "needs_background": "light"
     },
     "output_type": "display_data"
    }
   ],
   "source": [
    "# Question 1: Does players with defensive or offensive positions score mor goals per season\n",
    "# group df by goals, sum the goals and divide by number of positions to get th mean of the goals for each position \n",
    "def get_goals_per_position(df):\n",
    "    df_goals_position = (df.groupby('position')['goals'].sum()/df.groupby('position')['goals'].count())\n",
    "    df_goals_position.plot(kind='bar')\n",
    "    return df_goals_position\n",
    "df_goals_position19_20 = get_goals_per_position(df1920)\n",
    "df_goals_position18_19 = get_goals_per_position(df1819)\n",
    "df_goals_position17_18 = get_goals_per_position(df1718)\n",
    "df_goals_position16_17 = get_goals_per_position(df1617)\n",
    "df_goals_position15_16 = get_goals_per_position(df1516)\n",
    "df_goals_position14_15 = get_goals_per_position(df1415)"
   ]
  },
  {
   "cell_type": "code",
   "execution_count": 57,
   "metadata": {},
   "outputs": [
    {
     "data": {
      "text/html": [
       "<div>\n",
       "<style scoped>\n",
       "    .dataframe tbody tr th:only-of-type {\n",
       "        vertical-align: middle;\n",
       "    }\n",
       "\n",
       "    .dataframe tbody tr th {\n",
       "        vertical-align: top;\n",
       "    }\n",
       "\n",
       "    .dataframe thead th {\n",
       "        text-align: right;\n",
       "    }\n",
       "</style>\n",
       "<table border=\"1\" class=\"dataframe\">\n",
       "  <thead>\n",
       "    <tr style=\"text-align: right;\">\n",
       "      <th></th>\n",
       "      <th>offensive</th>\n",
       "      <th>defensive</th>\n",
       "    </tr>\n",
       "  </thead>\n",
       "  <tbody>\n",
       "    <tr>\n",
       "      <th>14/15</th>\n",
       "      <td>4.203363</td>\n",
       "      <td>2.033668</td>\n",
       "    </tr>\n",
       "    <tr>\n",
       "      <th>15/16</th>\n",
       "      <td>5.452146</td>\n",
       "      <td>1.077349</td>\n",
       "    </tr>\n",
       "    <tr>\n",
       "      <th>16/17</th>\n",
       "      <td>4.582568</td>\n",
       "      <td>2.150900</td>\n",
       "    </tr>\n",
       "    <tr>\n",
       "      <th>17/18</th>\n",
       "      <td>4.442554</td>\n",
       "      <td>0.804088</td>\n",
       "    </tr>\n",
       "    <tr>\n",
       "      <th>18/19</th>\n",
       "      <td>3.988092</td>\n",
       "      <td>1.294943</td>\n",
       "    </tr>\n",
       "    <tr>\n",
       "      <th>19/20</th>\n",
       "      <td>4.628739</td>\n",
       "      <td>1.013458</td>\n",
       "    </tr>\n",
       "  </tbody>\n",
       "</table>\n",
       "</div>"
      ],
      "text/plain": [
       "       offensive  defensive\n",
       "14/15   4.203363   2.033668\n",
       "15/16   5.452146   1.077349\n",
       "16/17   4.582568   2.150900\n",
       "17/18   4.442554   0.804088\n",
       "18/19   3.988092   1.294943\n",
       "19/20   4.628739   1.013458"
      ]
     },
     "execution_count": 57,
     "metadata": {},
     "output_type": "execute_result"
    },
    {
     "data": {
      "image/png": "[encoded data removed]",
      "text/plain": [
       "<Figure size 432x288 with 1 Axes>"
      ]
     },
     "metadata": {
      "needs_background": "light"
     },
     "output_type": "display_data"
    }
   ],
   "source": [
    "def get_mean_goals(df_goals_position):\n",
    "    # drop Goalkeeper out of list\n",
    "    df_goals_by_pos_no_gp = df_goals_position.drop(\"GK\").drop(\"GK S\")\n",
    "    # filter defensive postions and calculate mean goals per player \n",
    "    mean_goals_defensive = df_goals_by_pos_no_gp.filter(like='D', axis=0).mean()\n",
    "    # get a list of all players with defensive position\n",
    "    defensive_list = list(df_goals_by_pos_no_gp.filter(like='D', axis=0).index)\n",
    "    # drop all defensive postions from df_goals_by_pos_no_gp and calculate mean goals per player \n",
    "    mean_goals_offensive = df_goals_by_pos_no_gp.drop(defensive_list).mean()\n",
    "    return mean_goals_defensive, mean_goals_offensive\n",
    "\n",
    "mean_goals_defensive19_20, mean_goals_offensive19_20 = get_mean_goals(df_goals_position19_20)\n",
    "mean_goals_defensive18_19, mean_goals_offensive18_19 = get_mean_goals(df_goals_position18_19)\n",
    "mean_goals_defensive17_18, mean_goals_offensive17_18 = get_mean_goals(df_goals_position17_18)\n",
    "mean_goals_defensive16_17, mean_goals_offensive16_17 = get_mean_goals(df_goals_position16_17)\n",
    "mean_goals_defensive15_16, mean_goals_offensive15_16 = get_mean_goals(df_goals_position15_16)\n",
    "mean_goals_defensive14_15, mean_goals_offensive14_15 = get_mean_goals(df_goals_position14_15)\n",
    "\n",
    "##create new df with with mean goals per player per season in offensive and defensive positions and plot\n",
    "offensive = [mean_goals_offensive14_15, mean_goals_offensive15_16, mean_goals_offensive16_17,\n",
    "             mean_goals_offensive17_18, mean_goals_offensive18_19, mean_goals_offensive19_20]\n",
    "\n",
    "defensive = [mean_goals_defensive14_15, mean_goals_defensive15_16, mean_goals_defensive16_17,\n",
    "             mean_goals_defensive17_18, mean_goals_defensive18_19, mean_goals_defensive19_20]\n",
    "\n",
    "index = ['14/15', '15/16', '16/17', '17/18', '18/19', '19/20']\n",
    "\n",
    "df_mean_goals = pd.DataFrame({'offensive': offensive,\n",
    "\n",
    "                   'defensive': defensive}, index=index)\n",
    "\n",
    "ax = df_mean_goals.plot.bar(rot=0, ylabel=\"Goals per season\", xlabel=\"season\", \n",
    "                            grid=True, title='Offensive players vs defensive players')\n",
    "ax.set_ylim(0,6)\n",
    "df_mean_goals"
   ]
  },
  {
   "cell_type": "code",
   "execution_count": 55,
   "metadata": {},
   "outputs": [
    {
     "data": {
      "text/html": [
       "<div>\n",
       "<style scoped>\n",
       "    .dataframe tbody tr th:only-of-type {\n",
       "        vertical-align: middle;\n",
       "    }\n",
       "\n",
       "    .dataframe tbody tr th {\n",
       "        vertical-align: top;\n",
       "    }\n",
       "\n",
       "    .dataframe thead th {\n",
       "        text-align: right;\n",
       "    }\n",
       "</style>\n",
       "<table border=\"1\" class=\"dataframe\">\n",
       "  <thead>\n",
       "    <tr style=\"text-align: right;\">\n",
       "      <th></th>\n",
       "      <th>offensive</th>\n",
       "      <th>defensive</th>\n",
       "    </tr>\n",
       "  </thead>\n",
       "  <tbody>\n",
       "    <tr>\n",
       "      <th>14/15</th>\n",
       "      <td>0.978856</td>\n",
       "      <td>1.244990</td>\n",
       "    </tr>\n",
       "    <tr>\n",
       "      <th>15/16</th>\n",
       "      <td>0.902514</td>\n",
       "      <td>0.903070</td>\n",
       "    </tr>\n",
       "    <tr>\n",
       "      <th>16/17</th>\n",
       "      <td>1.010930</td>\n",
       "      <td>0.972632</td>\n",
       "    </tr>\n",
       "    <tr>\n",
       "      <th>17/18</th>\n",
       "      <td>0.976519</td>\n",
       "      <td>0.757833</td>\n",
       "    </tr>\n",
       "    <tr>\n",
       "      <th>18/19</th>\n",
       "      <td>0.922989</td>\n",
       "      <td>0.919728</td>\n",
       "    </tr>\n",
       "    <tr>\n",
       "      <th>19/20</th>\n",
       "      <td>0.908812</td>\n",
       "      <td>0.792198</td>\n",
       "    </tr>\n",
       "  </tbody>\n",
       "</table>\n",
       "</div>"
      ],
      "text/plain": [
       "       offensive  defensive\n",
       "14/15   0.978856   1.244990\n",
       "15/16   0.902514   0.903070\n",
       "16/17   1.010930   0.972632\n",
       "17/18   0.976519   0.757833\n",
       "18/19   0.922989   0.919728\n",
       "19/20   0.908812   0.792198"
      ]
     },
     "execution_count": 55,
     "metadata": {},
     "output_type": "execute_result"
    },
    {
     "data": {
      "image/png": "[encoded data removed]",
      "text/plain": [
       "<Figure size 432x288 with 1 Axes>"
      ]
     },
     "metadata": {
      "needs_background": "light"
     },
     "output_type": "display_data"
    }
   ],
   "source": [
    "# Question 2: Does a offensive or defensive player has higher quotient of goals per expected goals\n",
    "#\n",
    "\n",
    "def get_goal_per_xgoal(df):\n",
    "    df_g_per_xG_pos=df.groupby('position')['goals'].sum()/df.groupby('position')['xG'].sum()\n",
    "    # drop Goalkeeper out of list\n",
    "    df_g_per_xG_pos_no_gp = df_g_per_xG_pos.drop(\"GK\").drop(\"GK S\")\n",
    "    # filter defensive postions and calculate mean goals per player \n",
    "    mean_g_per_XG_defensive = df_g_per_xG_pos_no_gp.filter(like='D', axis=0).mean()\n",
    "    # get a list of all players with defensive position\n",
    "    defensive_list = list(df_g_per_xG_pos_no_gp.filter(like='D', axis=0).index)\n",
    "    # drop all defensive postions from df_goals_by_pos_no_gp and calculate mean goals per player \n",
    "    mean_g_per_XG_offensive = df_g_per_xG_pos_no_gp.drop(defensive_list).mean()\n",
    "    \n",
    "    return mean_g_per_XG_defensive, mean_g_per_XG_offensive\n",
    "    \n",
    "\n",
    "##create new df with with mean goals per player per season in offensive and defensive positions and plot\n",
    "mean_g_per_XG_defensive19_20, mean_g_per_XG_offensive19_20 = get_goal_per_xgoal(df1920)\n",
    "mean_g_per_XG_defensive18_19, mean_g_per_XG_offensive18_19 = get_goal_per_xgoal(df1819)\n",
    "mean_g_per_XG_defensive17_18, mean_g_per_XG_offensive17_18 = get_goal_per_xgoal(df1718)\n",
    "mean_g_per_XG_defensive16_17, mean_g_per_XG_offensive16_17 = get_goal_per_xgoal(df1617)\n",
    "mean_g_per_XG_defensive15_16, mean_g_per_XG_offensive15_16 = get_goal_per_xgoal(df1516)\n",
    "mean_g_per_XG_defensive14_15, mean_g_per_XG_offensive14_15 = get_goal_per_xgoal(df1415)\n",
    "\n",
    "\n",
    "\n",
    "##create new df with with mean goals per player per season in offensive and defensive positions and plot\n",
    "offensive = [mean_g_per_XG_offensive14_15, mean_g_per_XG_offensive15_16, mean_g_per_XG_offensive16_17,\n",
    "             mean_g_per_XG_offensive17_18, mean_g_per_XG_offensive18_19, mean_g_per_XG_offensive19_20]\n",
    "\n",
    "defensive = [mean_g_per_XG_defensive14_15, mean_g_per_XG_defensive15_16, mean_g_per_XG_defensive16_17,\n",
    "             mean_g_per_XG_defensive17_18, mean_g_per_XG_defensive18_19, mean_g_per_XG_defensive19_20]\n",
    "\n",
    "index = ['14/15', '15/16', '16/17', '17/18', '18/19', '19/20']\n",
    "\n",
    "df = pd.DataFrame({'offensive': offensive,\n",
    "\n",
    "                   'defensive': defensive}, index=index)\n",
    "\n",
    "ax = df.plot.bar(rot=0, ylabel=\"Goals per xG\", xlabel=\"season\", \n",
    "                            grid=True, title='Offensive players vs defensive players')\n",
    "ax.set_ylim(0,1.4)\n",
    "df"
   ]
  },
  {
   "cell_type": "code",
   "execution_count": 139,
   "metadata": {},
   "outputs": [
    {
     "data": {
      "text/plain": [
       "<matplotlib.axes._subplots.AxesSubplot at 0x12226fd50>"
      ]
     },
     "execution_count": 139,
     "metadata": {},
     "output_type": "execute_result"
    },
    {
     "data": {
      "image/png": "[encoded data removed]",
      "text/plain": [
       "<Figure size 432x288 with 1 Axes>"
      ]
     },
     "metadata": {
      "needs_background": "light"
     },
     "output_type": "display_data"
    }
   ],
   "source": [
    "# Which are the 10 most efficient players in season 2019/2020\n",
    "## append dfs of all seasons \n",
    "df = df1920.append(df1819).append(df1718).append(df1617).append(df1516).append(df1415)\n",
    "# create new column with Scorer points \n",
    "df['ScorerPoints'] = df['goals'] + df['assists']\n",
    "# create new column with expected Scorer points \n",
    "df['xScorerPoints'] = df['xG'] + df['xA']\n",
    "# create new column with with ratio of scorers and expected Scorer points \n",
    "df_scores = (df.groupby(\"player_name\")['ScorerPoints'].sum()/df.groupby(\"player_name\")['xScorerPoints'].sum())\n",
    "# create new df to get players who have more then 10 scorers\n",
    "df_scores = pd.DataFrame({\"ratio_S_xS\": df_scores})\n",
    "df_scores['Scores']=df.groupby(\"player_name\")['ScorerPoints'].sum()\n",
    "df_scores['position']=df.groupby(\"player_name\")['position'].sum()\n",
    "## delete duplicates\n",
    "df_scores['position'] = df_scores.apply(lambda row: \"\".join(dict.fromkeys(row['position'])), axis=1)\n",
    "df_scores = df_scores[df_scores.Scores > 20]\n",
    "# group and plot\n",
    "df_scores.groupby(['player_name',\"Scores\",\"position\"])['ratio_S_xS'].sum() \\\n",
    "            .nlargest(10).plot(kind='bar', title='Top 10 most efficient players', ylabel='Scores per xScores')"
   ]
  },
  {
   "cell_type": "code",
   "execution_count": 132,
   "metadata": {},
   "outputs": [
    {
     "data": {
      "text/plain": [
       "player_name\n",
       "Aaron Connolly                             F S\n",
       "Aaron Cresswell             DD SD M SD M SD MD\n",
       "Aaron Hunt                    F M SF M SM SM S\n",
       "Aaron Lennon        M SM SF M SF M SF M SF M S\n",
       "Aaron Leya Iseka                   F SF SF M S\n",
       "                               ...            \n",
       "Óscar Romero                            M SM S\n",
       "Óscar Trejo                     F M SM SM SM S\n",
       "Ömer Toprak                 D SD SD SDD M SD S\n",
       "Özkan Yildirim                              SM\n",
       "Ørjan Nyland                        GK SGK SGK\n",
       "Name: position, Length: 5816, dtype: object"
      ]
     },
     "execution_count": 132,
     "metadata": {},
     "output_type": "execute_result"
    }
   ],
   "source": [
    "df.groupby(\"player_name\")['position'].sum()"
   ]
  },
  {
   "cell_type": "code",
   "execution_count": 126,
   "metadata": {},
   "outputs": [
    {
     "data": {
      "text/html": [
       "<div>\n",
       "<style scoped>\n",
       "    .dataframe tbody tr th:only-of-type {\n",
       "        vertical-align: middle;\n",
       "    }\n",
       "\n",
       "    .dataframe tbody tr th {\n",
       "        vertical-align: top;\n",
       "    }\n",
       "\n",
       "    .dataframe thead th {\n",
       "        text-align: right;\n",
       "    }\n",
       "</style>\n",
       "<table border=\"1\" class=\"dataframe\">\n",
       "  <thead>\n",
       "    <tr style=\"text-align: right;\">\n",
       "      <th></th>\n",
       "      <th>ratio_S_xS</th>\n",
       "      <th>Scores</th>\n",
       "    </tr>\n",
       "    <tr>\n",
       "      <th>player_name</th>\n",
       "      <th></th>\n",
       "      <th></th>\n",
       "    </tr>\n",
       "  </thead>\n",
       "  <tbody>\n",
       "    <tr>\n",
       "      <th>Aaron Connolly</th>\n",
       "      <td>0.781931</td>\n",
       "      <td>4</td>\n",
       "    </tr>\n",
       "    <tr>\n",
       "      <th>Aaron Cresswell</th>\n",
       "      <td>1.139244</td>\n",
       "      <td>26</td>\n",
       "    </tr>\n",
       "    <tr>\n",
       "      <th>Aaron Hunt</th>\n",
       "      <td>0.889303</td>\n",
       "      <td>16</td>\n",
       "    </tr>\n",
       "    <tr>\n",
       "      <th>Aaron Lennon</th>\n",
       "      <td>1.135737</td>\n",
       "      <td>14</td>\n",
       "    </tr>\n",
       "    <tr>\n",
       "      <th>Aaron Leya Iseka</th>\n",
       "      <td>0.775760</td>\n",
       "      <td>8</td>\n",
       "    </tr>\n",
       "    <tr>\n",
       "      <th>...</th>\n",
       "      <td>...</td>\n",
       "      <td>...</td>\n",
       "    </tr>\n",
       "    <tr>\n",
       "      <th>Óscar Romero</th>\n",
       "      <td>0.424221</td>\n",
       "      <td>1</td>\n",
       "    </tr>\n",
       "    <tr>\n",
       "      <th>Óscar Trejo</th>\n",
       "      <td>0.926934</td>\n",
       "      <td>27</td>\n",
       "    </tr>\n",
       "    <tr>\n",
       "      <th>Ömer Toprak</th>\n",
       "      <td>0.551802</td>\n",
       "      <td>4</td>\n",
       "    </tr>\n",
       "    <tr>\n",
       "      <th>Özkan Yildirim</th>\n",
       "      <td>0.000000</td>\n",
       "      <td>0</td>\n",
       "    </tr>\n",
       "    <tr>\n",
       "      <th>Ørjan Nyland</th>\n",
       "      <td>NaN</td>\n",
       "      <td>0</td>\n",
       "    </tr>\n",
       "  </tbody>\n",
       "</table>\n",
       "<p>5816 rows × 2 columns</p>\n",
       "</div>"
      ],
      "text/plain": [
       "                  ratio_S_xS  Scores\n",
       "player_name                         \n",
       "Aaron Connolly      0.781931       4\n",
       "Aaron Cresswell     1.139244      26\n",
       "Aaron Hunt          0.889303      16\n",
       "Aaron Lennon        1.135737      14\n",
       "Aaron Leya Iseka    0.775760       8\n",
       "...                      ...     ...\n",
       "Óscar Romero        0.424221       1\n",
       "Óscar Trejo         0.926934      27\n",
       "Ömer Toprak         0.551802       4\n",
       "Özkan Yildirim      0.000000       0\n",
       "Ørjan Nyland             NaN       0\n",
       "\n",
       "[5816 rows x 2 columns]"
      ]
     },
     "execution_count": 126,
     "metadata": {},
     "output_type": "execute_result"
    }
   ],
   "source": [
    "df_scores"
   ]
  },
  {
   "cell_type": "code",
   "execution_count": null,
   "metadata": {},
   "outputs": [],
   "source": []
  },
  {
   "cell_type": "code",
   "execution_count": null,
   "metadata": {},
   "outputs": [],
   "source": []
  },
  {
   "cell_type": "code",
   "execution_count": null,
   "metadata": {},
   "outputs": [],
   "source": []
  },
  {
   "cell_type": "code",
   "execution_count": null,
   "metadata": {},
   "outputs": [],
   "source": []
  }
 ],
 "metadata": {
  "kernelspec": {
   "display_name": "Python 3",
   "language": "python",
   "name": "python3"
  },
  "language_info": {
   "codemirror_mode": {
    "name": "ipython",
    "version": 3
   },
   "file_extension": ".py",
   "mimetype": "text/x-python",
   "name": "python",
   "nbconvert_exporter": "python",
   "pygments_lexer": "ipython3",
   "version": "3.7.6"
  }
 },
 "nbformat": 4,
 "nbformat_minor": 4
}
